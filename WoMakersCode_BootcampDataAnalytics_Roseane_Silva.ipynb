{
  "nbformat": 4,
  "nbformat_minor": 0,
  "metadata": {
    "colab": {
      "provenance": []
    },
    "kernelspec": {
      "name": "python3",
      "display_name": "Python 3"
    },
    "language_info": {
      "name": "python"
    }
  },
  "cells": [
    {
      "cell_type": "markdown",
      "source": [
        "1 ) Para determinar se um candidato está qualificado para uma vaga de emprego, são aplicados dois critérios:\n",
        "\n",
        "a) O candidato deve ter uma presença igual ou superior a 60% em um treinamento obrigatório.\n",
        "\n",
        "b) O candidato deve ter uma média de desempenho igual ou superior a 7 em uma série de testes.\n",
        "\n",
        "Para auxiliar na avaliação dos candidatos, você deve criar uma função que recebe uma lista de dicionários contendo o nome do candidato, a média de desempenho e a quantidade de horas de ausência do treinamento. Com esses dados, a função deve calcular se o candidato está qualificado ou não. A presença do candidato é calculada considerando que o treinamento teve um total de 60 horas e utilizando a fórmula:\n",
        "\n",
        "(Total horas - número de faltas)/Total horas * 100;\n"
      ],
      "metadata": {
        "id": "3UpM724I5C19"
      }
    },
    {
      "cell_type": "code",
      "source": [
        "candidatos = [{'nome': 'Ricardo Menezes', 'media': 8, 'hora': 15}, {'nome': 'Jonatas Farias', 'media': 6, 'hora': 5},\n",
        "              {'nome': 'Luiza Carla', 'media': 10, 'hora': 16}, {'nome': 'Carla Silva', 'media': 9, 'hora': 0}, {'nome': 'Camila Augusta', 'media': 5, 'hora': 15}]\n",
        "\n",
        "def Aprovacoes(candidato: list) -> None:\n",
        "  for elm in candidato:\n",
        "    horas = elm['hora']\n",
        "    faltas = 60 - horas\n",
        "    presenca = (faltas/60)*100\n",
        "    if (elm['media'] >= 7) & (presenca >= 60):\n",
        "      print(\"Candidato\", elm['nome'], \"aprovado.\")\n",
        "    else:\n",
        "      print(\"Candidato\", elm['nome'], \"reprovado. Tente novamente no próximo ano.\")\n",
        "\n",
        "aprovados = Aprovacoes(candidatos)\n"
      ],
      "metadata": {
        "id": "Xv1MnjPQvkSt",
        "colab": {
          "base_uri": "https://localhost:8080/"
        },
        "outputId": "cc74ef1d-cc2b-4f71-f316-a8612be7b666"
      },
      "execution_count": null,
      "outputs": [
        {
          "output_type": "stream",
          "name": "stdout",
          "text": [
            "Candidato Ricardo Menezes aprovado.\n",
            "Candidato Jonatas Farias reprovado. Tente novamente no próximo ano.\n",
            "Candidato Luiza Carla aprovado.\n",
            "Candidato Carla Silva aprovado.\n",
            "Candidato Camila Augusta reprovado. Tente novamente no próximo ano.\n"
          ]
        }
      ]
    },
    {
      "cell_type": "markdown",
      "source": [
        "2) Crie uma função que recebe uma palavra (string), separa todos os caracteres em uma lista, retorna esta lista e quantidade de letras."
      ],
      "metadata": {
        "id": "fKKdyWo55e8w"
      }
    },
    {
      "cell_type": "code",
      "source": [
        "def Separador(palavra: str) -> list:\n",
        "  sep_palavra = list(palavra)\n",
        "  i = len(sep_palavra)\n",
        "  return sep_palavra, i\n",
        "\n",
        "entrada = input(\"Digite a palavra a ser fatiada: \")\n",
        "palavra, cont = Separador(palavra = entrada)\n",
        "print(palavra)\n",
        "print(cont, 'letras.')"
      ],
      "metadata": {
        "id": "Qq7QoqubvjbG",
        "colab": {
          "base_uri": "https://localhost:8080/"
        },
        "outputId": "924f7f73-b6b6-4b6f-b064-097380e5b38c"
      },
      "execution_count": null,
      "outputs": [
        {
          "output_type": "stream",
          "name": "stdout",
          "text": [
            "Digite a palavra a ser fatiada: paralelepipedo\n",
            "['p', 'a', 'r', 'a', 'l', 'e', 'l', 'e', 'p', 'i', 'p', 'e', 'd', 'o']\n",
            "14 letras.\n"
          ]
        }
      ]
    },
    {
      "cell_type": "markdown",
      "source": [
        "3) Crie um programa que leia quanto dinheiro uma pessoa tem na carteira, e calcule quanto poderia comprar de cada moeda estrangeira. Considere a tabela de conversão abaixo:\n",
        "\n",
        "Valor convertido em real:\n",
        "*   Dólar Americano: 4,91\n",
        "*   Peso Argentino: 0,02\n",
        "*   Dólar Australiano: 3,18\n",
        "*   Dólar Canadense: 3,64\n",
        "*   Franco Suiço: 0,42\n",
        "*   Euro:  5,36\n",
        "*   Libra esterlina: 6,21\n",
        "\n",
        "\n",
        "\n",
        "\n",
        "\n",
        "\n",
        "\n"
      ],
      "metadata": {
        "id": "EEXxWdjH5sju"
      }
    },
    {
      "cell_type": "code",
      "source": [
        "moeda_estrangeira = dict(Dolar_Americano = 4.91,\n",
        "                         Peso_Argentino = 0.02,\n",
        "                         Dolar_Australiano = 3.18,\n",
        "                         Dolar_Canadense = 3.64,\n",
        "                         Franco_Suico = 0.42,\n",
        "                         Euro = 5.36,\n",
        "                         Libra_Esterlina = 6.21)\n",
        "\n",
        "chaves = list(moeda_estrangeira.keys())\n",
        "valores = list(moeda_estrangeira.values())\n",
        "\n",
        "entrada = input(\"Digite quanto dinheiro você possui na sua carteira: \")\n",
        "dinheiro = int(entrada)\n",
        "\n",
        "for i in range(0, len(chaves)):\n",
        "  valor_convertido = dinheiro / valores[i]\n",
        "  print(\"Você pode gastar:\", round(valor_convertido, 2), chaves[i])"
      ],
      "metadata": {
        "id": "BFil1HpZvbFg",
        "colab": {
          "base_uri": "https://localhost:8080/"
        },
        "outputId": "0253e354-11b3-4f08-e561-9494a3c00f5b"
      },
      "execution_count": null,
      "outputs": [
        {
          "output_type": "stream",
          "name": "stdout",
          "text": [
            "Digite quanto dinheiro você possui na sua carteira: 2000\n",
            "Você pode gastar: 407.33 Dolar_Americano\n",
            "Você pode gastar: 100000.0 Peso_Argentino\n",
            "Você pode gastar: 628.93 Dolar_Australiano\n",
            "Você pode gastar: 549.45 Dolar_Canadense\n",
            "Você pode gastar: 4761.9 Franco_Suico\n",
            "Você pode gastar: 373.13 Euro\n",
            "Você pode gastar: 322.06 Libra_Esterlina\n"
          ]
        }
      ]
    },
    {
      "cell_type": "markdown",
      "source": [
        "\n",
        "4) O chefe decidiu premiar os melhores funcionários de sua empresa com um brinde. Para isso ela vai entregar um brinde para todos os funcionários que tiverem uma performance superior a média da equipe.\n",
        "\n",
        "Elabore uma função que recebe uma lista de nome em formato de dict (dicionário) com nome do funcionário e a média do funcionário (Valor de 0 a 10). Esta função deve calcular a média da equipe, identificar quais funcionários tem média igual ou superior a média da equipe e retornar uma lista com o nome dos funcionários que possuem média igual ou superior a média da equipe. A ordem dos nomes da lista de retorno deve ser em ordem decrescente."
      ],
      "metadata": {
        "id": "Tj2Ds76-6FXs"
      }
    },
    {
      "cell_type": "code",
      "source": [
        "colaboradores = dict(Ricardo_Menezes = 8,\n",
        "                    Jonatas_Farias = 6,\n",
        "                    Luiza_Carla = 10,\n",
        "                    Carla_Silva = 9,\n",
        "                    Camila_Augusta = 5,\n",
        "                    João_Fernando = 7.5,\n",
        "                    Caio_Jorge = 9,\n",
        "                    Maria_Joana = 9.5)\n",
        "\n",
        "def MediaEquipe(funcionarios: dict) -> list:\n",
        "  premiados = []\n",
        "  nomes = list(funcionarios.keys())\n",
        "  medias = list(funcionarios.values())\n",
        "\n",
        "  media = sum(medias)/len(medias)\n",
        "  print(media)\n",
        "\n",
        "  for i in range (0, len(medias)):\n",
        "    if medias[i] >= media:\n",
        "      premiados.append(nomes[i])\n",
        "  return premiados\n",
        "\n",
        "def Posicoes(funcionarios: dict) -> None:\n",
        "  print('A ordem decrescente da premiação é:')\n",
        "  for i in sorted(funcionarios, key = funcionarios.get, reverse=True):\n",
        "    print(i, funcionarios[i])\n",
        "\n",
        "funcionarios_premiados = MediaEquipe(colaboradores)\n",
        "print('Os funcionários que bateram a meta e receberão os brindes são:', funcionarios_premiados)\n",
        "ordem_brindes = Posicoes(colaboradores)"
      ],
      "metadata": {
        "id": "poEG0mnOvgSO",
        "colab": {
          "base_uri": "https://localhost:8080/"
        },
        "outputId": "2048bd5a-5cfc-4aff-99d9-5a06946ebebe"
      },
      "execution_count": null,
      "outputs": [
        {
          "output_type": "stream",
          "name": "stdout",
          "text": [
            "8.0\n",
            "Os funcionários que bateram a meta e receberão os brindes são: ['Ricardo_Menezes', 'Luiza_Carla', 'Carla_Silva', 'Caio_Jorge', 'Maria_Joana']\n",
            "A ordem decrescente da premiação é:\n",
            "Luiza_Carla 10\n",
            "Maria_Joana 9.5\n",
            "Carla_Silva 9\n",
            "Caio_Jorge 9\n",
            "Ricardo_Menezes 8\n",
            "João_Fernando 7.5\n",
            "Jonatas_Farias 6\n",
            "Camila_Augusta 5\n"
          ]
        }
      ]
    },
    {
      "cell_type": "markdown",
      "source": [
        "5) Na variável países_ano, temos uma lista de listas, em que cada elemento é uma lista de dois elementos, em que o primeiro é o nome de um país e o segundo é o ano em que a nação foi fundada."
      ],
      "metadata": {
        "id": "pVSP5n1T_ZWQ"
      }
    },
    {
      "cell_type": "code",
      "source": [
        "lista_paises = [[\"Brasil\", \"1500\"],[\"Mexico\",\"1519\"], [\"Inglaterra\", \"927\"], [\"Espanha\",\"1978\"], [\"Escocia\", \"843\"]]"
      ],
      "metadata": {
        "id": "zRywrNff01he"
      },
      "execution_count": null,
      "outputs": []
    },
    {
      "cell_type": "markdown",
      "source": [
        "Você deseja criar uma nova lista de listas a partir do exemplo (lista_paises), em que cada elemento é uma lista de dois elementos, sendo o primeiro o nome do país (como é na lista original) e o segundo é o número de anos desde a fundação do país (considere que o ano atual é 2023)."
      ],
      "metadata": {
        "id": "OpU-UWXC01Ca"
      }
    },
    {
      "cell_type": "code",
      "source": [
        "def IdadePaises(paises_info: list) -> list:\n",
        "  lista_paises2 = []\n",
        "  for elm in paises_info:\n",
        "    fundacao = int(elm[1])\n",
        "    idade = 2023 - fundacao\n",
        "    elm2 = [elm[0], idade]\n",
        "    lista_paises2.append(elm2)\n",
        "  return lista_paises2\n",
        "\n",
        "paises_idade = IdadePaises(lista_paises)\n",
        "print(paises_idade)"
      ],
      "metadata": {
        "id": "xaEQxcMFvhVa",
        "colab": {
          "base_uri": "https://localhost:8080/"
        },
        "outputId": "ae8ba96c-f87f-421f-f062-663521031a66"
      },
      "execution_count": null,
      "outputs": [
        {
          "output_type": "stream",
          "name": "stdout",
          "text": [
            "[['Brasil', 523], ['Mexico', 504], ['Inglaterra', 1096], ['Espanha', 45], ['Escocia', 1180]]\n"
          ]
        }
      ]
    },
    {
      "cell_type": "markdown",
      "source": [
        "6) Um jogador de um jogo de vídeo game deseja subir de nível em seu personagem ao atingir 50 inimigos derrotados. Enquanto esse número não é alcançado, uma mensagem indicando quantos inimigos ainda faltam é exibida na tela.\n"
      ],
      "metadata": {
        "id": "_qb748YiCzh-"
      }
    },
    {
      "cell_type": "code",
      "source": [
        "inimigos_derrotados = 0\n",
        "nivel = 0\n",
        "\n",
        "while (inimigos_derrotados < 50):\n",
        "    print(f\"Faltam {50 - inimigos_derrotados} inimigos para você mudar de nível!\")\n",
        "    inimigos_derrotados = inimigos_derrotados + 1\n",
        "print(\"\\nVocê atingiu o próximo nível!\")\n",
        "nivel = 1"
      ],
      "metadata": {
        "id": "wooL40fJi_gj",
        "colab": {
          "base_uri": "https://localhost:8080/"
        },
        "outputId": "66f2f5e3-e87a-4a55-bfbc-90309ffbe05e"
      },
      "execution_count": null,
      "outputs": [
        {
          "output_type": "stream",
          "name": "stdout",
          "text": [
            "Faltam 50 inimigos para você mudar de nível!\n",
            "Faltam 49 inimigos para você mudar de nível!\n",
            "Faltam 48 inimigos para você mudar de nível!\n",
            "Faltam 47 inimigos para você mudar de nível!\n",
            "Faltam 46 inimigos para você mudar de nível!\n",
            "Faltam 45 inimigos para você mudar de nível!\n",
            "Faltam 44 inimigos para você mudar de nível!\n",
            "Faltam 43 inimigos para você mudar de nível!\n",
            "Faltam 42 inimigos para você mudar de nível!\n",
            "Faltam 41 inimigos para você mudar de nível!\n",
            "Faltam 40 inimigos para você mudar de nível!\n",
            "Faltam 39 inimigos para você mudar de nível!\n",
            "Faltam 38 inimigos para você mudar de nível!\n",
            "Faltam 37 inimigos para você mudar de nível!\n",
            "Faltam 36 inimigos para você mudar de nível!\n",
            "Faltam 35 inimigos para você mudar de nível!\n",
            "Faltam 34 inimigos para você mudar de nível!\n",
            "Faltam 33 inimigos para você mudar de nível!\n",
            "Faltam 32 inimigos para você mudar de nível!\n",
            "Faltam 31 inimigos para você mudar de nível!\n",
            "Faltam 30 inimigos para você mudar de nível!\n",
            "Faltam 29 inimigos para você mudar de nível!\n",
            "Faltam 28 inimigos para você mudar de nível!\n",
            "Faltam 27 inimigos para você mudar de nível!\n",
            "Faltam 26 inimigos para você mudar de nível!\n",
            "Faltam 25 inimigos para você mudar de nível!\n",
            "Faltam 24 inimigos para você mudar de nível!\n",
            "Faltam 23 inimigos para você mudar de nível!\n",
            "Faltam 22 inimigos para você mudar de nível!\n",
            "Faltam 21 inimigos para você mudar de nível!\n",
            "Faltam 20 inimigos para você mudar de nível!\n",
            "Faltam 19 inimigos para você mudar de nível!\n",
            "Faltam 18 inimigos para você mudar de nível!\n",
            "Faltam 17 inimigos para você mudar de nível!\n",
            "Faltam 16 inimigos para você mudar de nível!\n",
            "Faltam 15 inimigos para você mudar de nível!\n",
            "Faltam 14 inimigos para você mudar de nível!\n",
            "Faltam 13 inimigos para você mudar de nível!\n",
            "Faltam 12 inimigos para você mudar de nível!\n",
            "Faltam 11 inimigos para você mudar de nível!\n",
            "Faltam 10 inimigos para você mudar de nível!\n",
            "Faltam 9 inimigos para você mudar de nível!\n",
            "Faltam 8 inimigos para você mudar de nível!\n",
            "Faltam 7 inimigos para você mudar de nível!\n",
            "Faltam 6 inimigos para você mudar de nível!\n",
            "Faltam 5 inimigos para você mudar de nível!\n",
            "Faltam 4 inimigos para você mudar de nível!\n",
            "Faltam 3 inimigos para você mudar de nível!\n",
            "Faltam 2 inimigos para você mudar de nível!\n",
            "Faltam 1 inimigos para você mudar de nível!\n",
            "\n",
            "Você atingiu o próximo nível!\n"
          ]
        }
      ]
    }
  ]
}