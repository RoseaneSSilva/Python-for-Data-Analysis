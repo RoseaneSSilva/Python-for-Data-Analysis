{
  "cells": [
    {
      "cell_type": "markdown",
      "metadata": {
        "id": "J5Sr8I4prFsl"
      },
      "source": [
        "# **Módulo** | Python: Programação Orientada a Objetos\n",
        "\n",
        "## 0\\. Preparação do ambiente\n",
        "\n",
        "Neste exercício vamos trabalhar com os arquivos de csv e texto definidos abaixo. Execute cada uma das células de código para escrever os arquivos na sua máquina virtual.\n",
        "\n",
        "* **carros.csv**: arquivo csv com informações sobre carros (venda, manutenção, portas, etc.)."
      ]
    },
    {
      "cell_type": "code",
      "execution_count": 6,
      "metadata": {
        "colab": {
          "base_uri": "https://localhost:8080/"
        },
        "id": "BVEdTUwVluZk",
        "outputId": "afc06855-866e-49ec-e9f8-d88c8fa5f32c"
      },
      "outputs": [
        {
          "output_type": "stream",
          "name": "stdout",
          "text": [
            "Overwriting carros.csv\n"
          ]
        }
      ],
      "source": [
        "%%writefile carros.csv\n",
        "id,valor_venda,valor_manutencao,portas,pessoas,porta_malas\n",
        "1,vhigh,med,2,2,small\n",
        "2,med,vhigh,2,2,small\n",
        "3,low,vhigh,2,2,small\n",
        "4,low,high,2,2,small\n",
        "5,low,high,2,2,small\n",
        "6,low,high,4,4,big\n",
        "7,low,high,4,4,big\n",
        "8,low,med,2,2,small\n",
        "9,low,med,2,2,small\n",
        "10,low,med,2,2,small\n",
        "11,low,med,4,4,big\n",
        "12,low,low,2,2,small\n",
        "13,low,low,4,4,small\n",
        "14,low,low,4,4,med"
      ]
    },
    {
      "cell_type": "markdown",
      "metadata": {
        "id": "zZH6OKkQrdbX"
      },
      "source": [
        "* **musica.txt**: arquivo texto com a letra da música Roda Viva do Chico Buarque."
      ]
    },
    {
      "cell_type": "code",
      "execution_count": 7,
      "metadata": {
        "colab": {
          "base_uri": "https://localhost:8080/"
        },
        "id": "JK-_NuIQrhmr",
        "outputId": "b045fa57-5642-44e1-c7ea-6bdb330f8cb4"
      },
      "outputs": [
        {
          "output_type": "stream",
          "name": "stdout",
          "text": [
            "Overwriting musica.txt\n"
          ]
        }
      ],
      "source": [
        "%%writefile musica.txt\n",
        "Roda Viva\n",
        "Chico Buarque\n",
        "\n",
        "Tem dias que a gente se sente\n",
        "Como quem partiu ou morreu\n",
        "A gente estancou de repente\n",
        "Ou foi o mundo então que cresceu\n",
        "A gente quer ter voz ativa\n",
        "No nosso destino mandar\n",
        "Mas eis que chega a roda viva\n",
        "E carrega o destino pra lá\n",
        "\n",
        "Roda mundo, roda-gigante\n",
        "Roda moinho, roda pião\n",
        "\n",
        "O tempo rodou num instante\n",
        "Nas voltas do meu coração\n",
        "A gente vai contra a corrente\n",
        "Até não poder resistir\n",
        "Na volta do barco é que sente\n",
        "O quanto deixou de cumprir\n",
        "Faz tempo que a gente cultiva\n",
        "A mais linda roseira que há\n",
        "Mas eis que chega a roda viva\n",
        "E carrega a roseira pra lá\n",
        "\n",
        "Roda mundo, roda-gigante\n",
        "Roda moinho, roda pião"
      ]
    },
    {
      "cell_type": "markdown",
      "metadata": {
        "id": "6Wtp7uHSrxoM"
      },
      "source": [
        "## 1\\. Classe para ler arquivos de texto\n",
        "\n",
        "Crie a classe `ArquivoTexto`. Ela deve conter os seguintes atributos:\n",
        "\n",
        "*   `self.arquivo`: Atributo do tipo `str` com o nome do arquivo;\n",
        "*   `self.conteudo`: Atributo do tipo `list` onde cada elemento é uma linha do arquivo;\n",
        "\n",
        "A classe também deve conter o seguinte método:\n",
        "\n",
        "*   `self.extrair_conteudo`: Método que realiza a leitura do arquivo e retorna o conteúdo.\n",
        "\n",
        "*   `self.extrair_linha`: Método que recebe como parâmetro o número da linha e retorna a linha do conteúdo."
      ]
    },
    {
      "cell_type": "code",
      "execution_count": 14,
      "metadata": {
        "id": "F5PCluWYr-rv"
      },
      "outputs": [],
      "source": [
        "class ArquivoTexto(object):\n",
        "\n",
        "  def __init__(self, arquivo: str):\n",
        "    self.arquivo = arquivo\n",
        "    self.conteudo = self._extrair_conteudo()\n",
        "  \n",
        "  def _extrair_conteudo(self):\n",
        "    conteudo = None\n",
        "    with open(file = self.arquivo, mode = 'r', encoding = 'utf8') as arquivo:\n",
        "      conteudo = arquivo.readlines()\n",
        "    return conteudo\n",
        "\n",
        "  def _extrair_linha(self, numero_linha: int):\n",
        "    return self.conteudo[numero_linha -1]\n",
        "    "
      ]
    },
    {
      "cell_type": "markdown",
      "metadata": {
        "id": "i1OowSZbeojr"
      },
      "source": [
        "Utilize o código abaixo para testar sua classe."
      ]
    },
    {
      "cell_type": "code",
      "source": [
        "arquivo_texto = ArquivoTexto(arquivo = './musica.txt')\n",
        "\n",
        "numero_linha = 1\n",
        "print(arquivo_texto._extrair_linha(numero_linha = numero_linha)) # Roda Viva\n",
        "\n",
        "numero_linha = 10\n",
        "print(arquivo_texto._extrair_linha(numero_linha = numero_linha)) # Mas eis que chega a roda viva"
      ],
      "metadata": {
        "colab": {
          "base_uri": "https://localhost:8080/"
        },
        "id": "J562oztHXCm3",
        "outputId": "0e118ef5-1143-45df-9d72-111362046b85"
      },
      "execution_count": 9,
      "outputs": [
        {
          "output_type": "stream",
          "name": "stdout",
          "text": [
            "Roda Viva\n",
            "\n",
            "Mas eis que chega a roda viva\n",
            "\n"
          ]
        }
      ]
    },
    {
      "cell_type": "markdown",
      "source": [
        "## 2\\. Classe para ler arquivos de csv\n",
        "\n",
        "Crie a classe `ArquivoCSV`. Ela deve extender (herdar) a classe `ArquivoTexto` para reaproveitar os seus atributos (`self.arquivo` e `self.conteudo`). Além disso, adicione o seguinte atributo:\n",
        "\n",
        "*   `self.colunas`: Atributo do tipo `list` onde os elementos são os nome das colunas;\n",
        "\n",
        "A classe também deve conter o seguinte método:\n",
        "\n",
        "*   `self.extrair_nome_colunas`: Método que retorna o nome das colunas do arquivo.\n",
        "\n",
        "\n",
        "*   `extrair_coluna`: Método que recebe como parâmetro o indice da coluna e retorna o valor em questão."
      ],
      "metadata": {
        "id": "WHRBR6FqZLJL"
      }
    },
    {
      "cell_type": "code",
      "source": [
        "class ArquivoCSV(ArquivoTexto):\n",
        "\n",
        "  def __init__(self, arquivo: str):\n",
        "    super().__init__(arquivo = arquivo)\n",
        "    self.colunas = self._extrair_nome_colunas()\n",
        "\n",
        "  def _extrair_nome_colunas(self):\n",
        "    return self.conteudo[0].strip().split(sep = ',')\n",
        "  \n",
        "  def extrair_coluna(self, indice_coluna = int):\n",
        "    coluna = list()\n",
        "    for linha in self.conteudo:\n",
        "      conteudo_linha = linha.strip().split(sep = ',')\n",
        "      coluna.append(conteudo_linha[indice_coluna]) \n",
        "    coluna.pop(0)\n",
        "    return coluna\n"
      ],
      "metadata": {
        "id": "Mj76nJVMZRCJ"
      },
      "execution_count": 30,
      "outputs": []
    },
    {
      "cell_type": "markdown",
      "source": [
        "Utilize o código abaixo para testar sua classe."
      ],
      "metadata": {
        "id": "qMsMEFYXpm3Q"
      }
    },
    {
      "cell_type": "code",
      "source": [
        "arquivo_csv = ArquivoCSV(arquivo = './carros.csv')\n",
        "\n",
        "numero_linha = 1\n",
        "print(arquivo_csv._extrair_linha(numero_linha = numero_linha)) # id,valor_venda,valor_manutencao,portas,pessoas,porta_malas\n",
        "\n",
        "print(arquivo_csv.colunas) # ['id', 'valor_venda', 'valor_manutencao', 'portas', 'pessoas', 'porta_malas']\n",
        "\n",
        "numero_linha = 10\n",
        "print(arquivo_csv._extrair_linha(numero_linha = numero_linha)) # 9,low,med,2,2,small\n",
        "\n",
        "\n",
        "indice_coluna = 2\n",
        "print(arquivo_csv.extrair_coluna(indice_coluna = indice_coluna)) # ['med', 'vhigh', 'vhigh', 'high', 'high', 'high', 'high', 'med', 'med', 'med', 'med', 'low', 'low', 'low']"
      ],
      "metadata": {
        "colab": {
          "base_uri": "https://localhost:8080/"
        },
        "id": "TewTVRr7pnf9",
        "outputId": "60669b7f-2d5d-440c-ce85-99d87f6ffa3d"
      },
      "execution_count": 31,
      "outputs": [
        {
          "output_type": "stream",
          "name": "stdout",
          "text": [
            "id,valor_venda,valor_manutencao,portas,pessoas,porta_malas\n",
            "\n",
            "['id', 'valor_venda', 'valor_manutencao', 'portas', 'pessoas', 'porta_malas']\n",
            "9,low,med,2,2,small\n",
            "\n",
            "['med', 'vhigh', 'vhigh', 'high', 'high', 'high', 'high', 'med', 'med', 'med', 'med', 'low', 'low', 'low']\n"
          ]
        }
      ]
    },
    {
      "cell_type": "markdown",
      "source": [
        "# Exercício bônus\n",
        "\n",
        "1. Classe para ler o arquivo csv\n",
        "\n",
        "Crie a classe `ArquivoCSV2`. Ela deve extender (herdar) a classe `ArquivoTexto` para reaproveitar o seu atributos `self.arquivo` e o método `self.extrair_linha`. \n",
        "\n",
        "\n",
        "A classe também deve conter o seguinte método:\n",
        "\n",
        "*   `self.extrair_coluna_da_linha`: Método que recebe como parâmetro o numero da linha e o indice da coluna e retorna o valor em questão."
      ],
      "metadata": {
        "id": "vr0eG0El2c_K"
      }
    },
    {
      "cell_type": "code",
      "source": [
        "class ArquivoCSV2(ArquivoTexto):\n",
        "\n",
        "  def __init__(self, arquivo: str):\n",
        "    super().__init__(arquivo = arquivo)\n",
        "    \n",
        "  def extrair_coluna_da_linha(self, numero_linha: int, indice_coluna: int):\n",
        "    coluna = list()\n",
        "    for linha in self.conteudo:\n",
        "      conteudo_linha = linha.strip().split(sep = ',')\n",
        "      coluna.append(conteudo_linha[indice_coluna]) \n",
        "    coluna.pop(0)\n",
        "    valor = coluna[numero_linha + 1]\n",
        "    return valor\n",
        "  "
      ],
      "metadata": {
        "id": "Ozr322Hw2jnM"
      },
      "execution_count": 51,
      "outputs": []
    },
    {
      "cell_type": "code",
      "source": [
        "arquivo_csv2 = ArquivoCSV2(arquivo = './carros.csv')\n",
        "\n",
        "numero_linha = 10\n",
        "indice_coluna = 2\n",
        "print(arquivo_csv2.extrair_coluna_da_linha(numero_linha=numero_linha, indice_coluna=indice_coluna)) # low"
      ],
      "metadata": {
        "colab": {
          "base_uri": "https://localhost:8080/"
        },
        "id": "CgwrUL-W42rL",
        "outputId": "b81e0a6d-8a5c-4fc1-cb5d-b2bd53156c01"
      },
      "execution_count": 52,
      "outputs": [
        {
          "output_type": "stream",
          "name": "stdout",
          "text": [
            "low\n"
          ]
        }
      ]
    }
  ],
  "metadata": {
    "colab": {
      "provenance": []
    },
    "kernelspec": {
      "display_name": "Python 3",
      "name": "python3"
    },
    "language_info": {
      "name": "python"
    }
  },
  "nbformat": 4,
  "nbformat_minor": 0
}