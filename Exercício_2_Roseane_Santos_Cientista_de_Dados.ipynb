{
  "nbformat": 4,
  "nbformat_minor": 0,
  "metadata": {
    "colab": {
      "provenance": []
    },
    "kernelspec": {
      "name": "python3",
      "display_name": "Python 3"
    },
    "language_info": {
      "name": "python"
    }
  },
  "cells": [
    {
      "cell_type": "code",
      "execution_count": 6,
      "metadata": {
        "colab": {
          "base_uri": "https://localhost:8080/"
        },
        "id": "6I7tV5HtHvZ2",
        "outputId": "52d8631b-b546-4951-ad84-826821762bec"
      },
      "outputs": [
        {
          "output_type": "stream",
          "name": "stdout",
          "text": [
            "['Avatar: The Way of Water', 'Puss in Boots: The Last Wish', 'M3GAN', 'Missing', 'A Man Called Otto', 'Plane', 'House Party', 'Gekijôban Tensei shitara slime datta ken', 'Black Panther: Wakanda Forever', 'The Whale']\n"
          ]
        }
      ],
      "source": [
        "#1. Listas\n",
        "#Crie uma lista chamada filmes com o nome dos 10 primeiros filmes mais bem avaliados no site no IMDB.\n",
        "#Imprima o resultado.\n",
        "#Principais bilheterias (EUA) // Fim de semana 20 de janeiro 2023\n",
        "\n",
        "filmes = ['Avatar: The Way of Water', 'Puss in Boots: The Last Wish', 'M3GAN', 'Missing', 'A Man Called Otto',\n",
        "          'Plane', 'House Party', 'Gekijôban Tensei shitara slime datta ken', 'Black Panther: Wakanda Forever', 'The Whale']\n",
        "print(filmes)"
      ]
    },
    {
      "cell_type": "code",
      "source": [
        "#Simule a movimentação do ranking. Utilize os métodos insert e pop para trocar a posição do primeiro e do segundo filme da lista.\n",
        "#Imprima o resultado.\n",
        "\n",
        "filme_1 = filmes.pop(1)\n",
        "print(filme_1)\n",
        "print(filmes)\n",
        "filmes.insert(0, filme_1)\n",
        "print(filmes)"
      ],
      "metadata": {
        "colab": {
          "base_uri": "https://localhost:8080/"
        },
        "id": "4GFk3axtQt4y",
        "outputId": "a4e721e9-d20e-45f3-eb6e-2345b76c177a"
      },
      "execution_count": 7,
      "outputs": [
        {
          "output_type": "stream",
          "name": "stdout",
          "text": [
            "Puss in Boots: The Last Wish\n",
            "['Avatar: The Way of Water', 'M3GAN', 'Missing', 'A Man Called Otto', 'Plane', 'House Party', 'Gekijôban Tensei shitara slime datta ken', 'Black Panther: Wakanda Forever', 'The Whale']\n",
            "['Puss in Boots: The Last Wish', 'Avatar: The Way of Water', 'M3GAN', 'Missing', 'A Man Called Otto', 'Plane', 'House Party', 'Gekijôban Tensei shitara slime datta ken', 'Black Panther: Wakanda Forever', 'The Whale']\n"
          ]
        }
      ]
    },
    {
      "cell_type": "code",
      "source": [
        "#2. Conjuntos\n",
        "#Aconteceu um erro no seu ranking. Simule a duplicação dos três últimos filmes da lista.\n",
        "#Imprima o resultado.\n",
        "\n",
        "filmes.append('Gekijôban Tensei shitara slime datta ken')\n",
        "filmes.append('Black Panther: Wakanda Forever')\n",
        "filmes.append('The Whale')\n",
        "print(filmes)"
      ],
      "metadata": {
        "colab": {
          "base_uri": "https://localhost:8080/"
        },
        "id": "zpNTLKzS_75j",
        "outputId": "d6d2fd3b-8a22-4e18-dd9c-6b8427206bf2"
      },
      "execution_count": 8,
      "outputs": [
        {
          "output_type": "stream",
          "name": "stdout",
          "text": [
            "['Puss in Boots: The Last Wish', 'Avatar: The Way of Water', 'M3GAN', 'Missing', 'A Man Called Otto', 'Plane', 'House Party', 'Gekijôban Tensei shitara slime datta ken', 'Black Panther: Wakanda Forever', 'The Whale', 'Gekijôban Tensei shitara slime datta ken', 'Black Panther: Wakanda Forever', 'The Whale']\n"
          ]
        }
      ]
    },
    {
      "cell_type": "code",
      "source": [
        "#Utiliza a conversão set e list para remover os valores duplicados. Imprima o resultado.\n",
        "print(len(filmes))\n",
        "print(list(set(filmes)))\n",
        "print(len(list(set(filmes))))\n"
      ],
      "metadata": {
        "colab": {
          "base_uri": "https://localhost:8080/"
        },
        "id": "Kw6kNDMHA2Mj",
        "outputId": "176ee10d-e6d5-4d50-dae6-c704580cab67"
      },
      "execution_count": 12,
      "outputs": [
        {
          "output_type": "stream",
          "name": "stdout",
          "text": [
            "13\n",
            "['Black Panther: Wakanda Forever', 'The Whale', 'A Man Called Otto', 'Puss in Boots: The Last Wish', 'Plane', 'Gekijôban Tensei shitara slime datta ken', 'House Party', 'M3GAN', 'Missing', 'Avatar: The Way of Water']\n",
            "10\n"
          ]
        }
      ]
    },
    {
      "cell_type": "code",
      "source": [
        "#3. Dicionários\n",
        "#Repita os exercícios da parte 1 (listas). Os elementos da lista filmes devem ser dicionários\n",
        "#no seguinte formato: {'nome': <nome-do-filme>, 'ano': <ano do filme>}, 'sinopse': <sinopse do filme>}.\n",
        "\n",
        "filmes_set = {\n",
        "    'Avatar: The Way of Water': {\n",
        "        'ano_1': '2022',\n",
        "        'sinopse_1': 'Jake Sully vive com sua nova família na lua extrassolar Pandora. Uma vez que uma ameaça familiar retorna para terminar o que foi iniciado anteriormente, Jake deve trabalhar com Neytiri e o exército da raça Navi para proteger sua casa.'\n",
        "    },\n",
        "    'Puss in Boots: The Last Wish': {\n",
        "        'ano_2': '2022',\n",
        "        'sinopse_2': 'O Gato de Botas descobre que sua paixão pela aventura cobrou seu preço: ele esgotou oito de suas nove vidas. O Gato de Botas embarca em uma jornada épica para encontrar o mítico Último Desejo e recuperar suas nove vidas.'\n",
        "    },\n",
        "    'M3GAN': {\n",
        "        'ano_3': '2022',\n",
        "        'sinopse_3': 'Uma engenheira de robótica de uma empresa de brinquedos constrói uma boneca realista que começa a ganhar vida própria.'\n",
        "    },\n",
        "    'Missing': {\n",
        "        'ano_4': '2023',\n",
        "        'sinopse_4': 'Depois que sua mãe desaparece, uma jovem tenta encontrá-la em casa, usando ferramentas disponíveis online.'\n",
        "    },\n",
        "    'A Man Called Otto': {\n",
        "        'ano_5': '2022',\n",
        "        'sinopse_5': 'Otto é um grunhido que desistiu da vida após a perda de sua esposa e quer acabar com tudo isso. Quando uma jovem família se muda para as redondezas, ele encontra seu par na engenhosa Marisol, levando a uma amizade que mudará seu mundo.'\n",
        "    },\n",
        "    'Plane': {\n",
        "        'ano_6': '2023',\n",
        "        'sinopse_6': 'Um piloto se vê preso em uma zona de guerra após ser forçado a pousar seu avião comercial durante uma terrível tempestade.'\n",
        "    },\n",
        "    'House Party': {\n",
        "        'ano_7': '2023',\n",
        "        'sinopse_7': 'Da New Line Cinema vem seu ingresso VIP para o evento mais badalado do ano: \"House Party\", o remix do clássico favorito dos fãs dos anos 90.'\n",
        "    },\n",
        "    'Gekijôban Tensei shitara slime datta ken': {\n",
        "        'ano_8': '2022',\n",
        "        'sinopse_8': 'O trabalhador corporativo Mikami é esfaqueado por um assassino aleatório e renasce em um mundo alternativo. Mas ele renasce como um lodo. Ele é jogado neste novo mundo com o nome de Rimuru, ele começa sua busca para criar um mundo que seja acolhedor para todas as raças.'\n",
        "    },\n",
        "    'Black Panther: Wakanda Forever': {\n",
        "        'ano_9': '2022',\n",
        "        'sinopse_9': 'Uma sequela que explora o mundo único de Wakanda e os vários personagens introduzidos com o título de 2018.'\n",
        "    },\n",
        "    'The Whale': {\n",
        "        'ano_10': '2022',\n",
        "        'sinopse_10': 'Um professor de inglês recluso que vive com obesidade severa tenta se reconectar com sua distante filha adolescente para uma última chance de redenção.'\n",
        "    },\n",
        "}\n",
        "print(filmes_set)"
      ],
      "metadata": {
        "colab": {
          "base_uri": "https://localhost:8080/"
        },
        "id": "CddcjoJqB6aM",
        "outputId": "6f72d3c4-c941-45da-a36a-c5427403edf8"
      },
      "execution_count": 25,
      "outputs": [
        {
          "output_type": "stream",
          "name": "stdout",
          "text": [
            "{'Avatar: The Way of Water': {'ano_1': '2022', 'sinopse_1': 'Jake Sully vive com sua nova família na lua extrassolar Pandora. Uma vez que uma ameaça familiar retorna para terminar o que foi iniciado anteriormente, Jake deve trabalhar com Neytiri e o exército da raça Navi para proteger sua casa.'}, 'Puss in Boots: The Last Wish': {'ano_2': '2022', 'sinopse_2': 'O Gato de Botas descobre que sua paixão pela aventura cobrou seu preço: ele esgotou oito de suas nove vidas. O Gato de Botas embarca em uma jornada épica para encontrar o mítico Último Desejo e recuperar suas nove vidas.'}, 'M3GAN': {'ano_3': '2022', 'sinopse_3': 'Uma engenheira de robótica de uma empresa de brinquedos constrói uma boneca realista que começa a ganhar vida própria.'}, 'Missing': {'ano_4': '2023', 'sinopse_4': 'Depois que sua mãe desaparece, uma jovem tenta encontrá-la em casa, usando ferramentas disponíveis online.'}, 'A Man Called Otto': {'ano_5': '2022', 'sinopse_5': 'Otto é um grunhido que desistiu da vida após a perda de sua esposa e quer acabar com tudo isso. Quando uma jovem família se muda para as redondezas, ele encontra seu par na engenhosa Marisol, levando a uma amizade que mudará seu mundo.'}, 'Plane': {'ano_6': '2023', 'sinopse_6': 'Um piloto se vê preso em uma zona de guerra após ser forçado a pousar seu avião comercial durante uma terrível tempestade.'}, 'House Party': {'ano_7': '2023', 'sinopse_7': 'Da New Line Cinema vem seu ingresso VIP para o evento mais badalado do ano: \"House Party\", o remix do clássico favorito dos fãs dos anos 90.'}, 'Gekijôban Tensei shitara slime datta ken': {'ano_8': '2022', 'sinopse_8': 'O trabalhador corporativo Mikami é esfaqueado por um assassino aleatório e renasce em um mundo alternativo. Mas ele renasce como um lodo. Ele é jogado neste novo mundo com o nome de Rimuru, ele começa sua busca para criar um mundo que seja acolhedor para todas as raças.'}, 'Black Panther: Wakanda Forever': {'ano_9': '2022', 'sinopse_9': 'Uma sequela que explora o mundo único de Wakanda e os vários personagens introduzidos com o título de 2018.'}, 'The Whale': {'ano_10': '2022', 'sinopse_10': 'Um professor de inglês recluso que vive com obesidade severa tenta se reconectar com sua distante filha adolescente para uma última chance de redenção.'}}\n"
          ]
        }
      ]
    }
  ]
}