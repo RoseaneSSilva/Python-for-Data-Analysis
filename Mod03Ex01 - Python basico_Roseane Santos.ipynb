{
 "cells": [
  {
   "cell_type": "markdown",
   "metadata": {
    "id": "SEE0vQsW83yB"
   },
   "source": [
    "### 01 - Teste de gravidez\n",
    "Escreva uma célula com controle de fluxos que tem como premissa a existência das seguintes variáveis:\n",
    "\n",
    "- ```sexo``` como ```str``` indicando os valores '**M**' para masculino e '**F**' para feminino  \n",
    "- ```beta_hcg``` que indica a quantidade do beta-HCG no sangue em mUI/mL.\n",
    "\n",
    "A sua tarefa é escrever um código que imprima como resultado \"indivíduo do sexo masculino\" quando sexo = 'M', caso sexo = 'F', se o valor de beta-HCG for maior que 5, retorne \"Positivo\" indicando que a paciente está grávida, e retorne \"Negativo\" caso contrário.\n",
    "\n",
    "Não mexa nos valores da variável ```sexo``` nem em ```beta_hcg```, e escreva um código que funcione para quaisquer valores possíveis de ambos: ```sexo``` = '**M**' ou '**F**' e ```beta_hcg``` assumindo valores inteiros positivos."
   ]
  },
  {
   "cell_type": "code",
   "execution_count": 13,
   "metadata": {
    "id": "cTOc4LG683yE"
   },
   "outputs": [
    {
     "name": "stdout",
     "output_type": "stream",
     "text": [
      "Indivíduo do sexo masculino.\n"
     ]
    }
   ],
   "source": [
    "sexo = 'M'\n",
    "beta_hcg = 0\n",
    "\n",
    "# Para a resolução do problema foi utilizado a estrutura de decisão condicional if/else \n",
    "\n",
    "if sexo == 'M' or sexo == 'm': # Utilização de operadores booleanos igual a (==) e ou (or) para comparação\n",
    "    print(\"Indivíduo do sexo masculino.\")\n",
    "elif sexo == 'F' or sexo == 'f':\n",
    "    if beta_hcg > 5: # Utilização de operadores booleanos maior que(>) e ou(or) para comparação\n",
    "        print(\"Positivo, paciente está grávida.\")\n",
    "    else:\n",
    "        print(\"Negativo, paciente não está grávida.\")"
   ]
  },
  {
   "cell_type": "markdown",
   "metadata": {
    "id": "uCoIZDE383yF"
   },
   "source": [
    "### 02 - Renomeando variáveis\n",
    "\n",
    "Vamos ver adiante que uma forma de renomear variáveis de um conjunto de dados é através de dicionários - o dicionário deve conter como chave o nome original, associando a cada chave um único valor (tipo *str*) que contenha o nome novo.\n",
    "\n",
    "A sua tarefa é escrever um dicionário que possa ser utilizado para traduzir as variáveis ```name``` (nome), ```age``` (idade) e ```income``` (renda). Ou seja, esse dicionário deve relacionar as chaves *name, age* e *income* às suas respectivas traduções."
   ]
  },
  {
   "cell_type": "code",
   "execution_count": 380,
   "metadata": {
    "id": "Bh6ijpbu83yG",
    "outputId": "58fbd8da-ed1d-4e05-df85-041c821948f2"
   },
   "outputs": [
    {
     "data": {
      "text/plain": [
       "{'name': 'Roseane', 'age': 36, 'income': 3500.0}"
      ]
     },
     "execution_count": 380,
     "metadata": {},
     "output_type": "execute_result"
    }
   ],
   "source": [
    "nome = 'Roseane'        # Para a resolução dessa atividade, foram atribuidos valores as variáves traduzidas nome, idade e renda \n",
    "idade = 36\n",
    "renda = 3500.00\n",
    "                        # Em seguida, a partir do conceito de dicionário, a cada chave foram relacionados as suas traduções \n",
    "dic_renomeacao = {'name':nome, 'age':idade, 'income':renda} \n",
    "dic_renomeacao\n",
    "                        # Com consequência, os valores atribuidos as traduções foram relacionados as chaves"
   ]
  },
  {
   "cell_type": "markdown",
   "metadata": {
    "id": "95zumO5g83yH"
   },
   "source": [
    "### 03 - É divisível?\n",
    "A sua tarefa é escrever um código que indique se um número ```N``` é divisível por um número P. Escreva um programa que faça essa verificação para quaisquer combinações de ```N``` e ```M``` e devolva uma mensagem indicativa no output."
   ]
  },
  {
   "cell_type": "code",
   "execution_count": 14,
   "metadata": {
    "id": "BR2zOhmN83yI"
   },
   "outputs": [
    {
     "name": "stdout",
     "output_type": "stream",
     "text": [
      "O número 42 é divisível por 7\n"
     ]
    }
   ],
   "source": [
    "N = 42\n",
    "M = 7\n",
    "\n",
    "if N % M == 0:                                   #Para a resolução do problema foi utilizado a estrutura de decisão condicional if/else \n",
    "    print(\"O número\", N, \"é divisível por\", M)   # Operador (%) retorna o resto da divisão entre dois números e o compara com 0\n",
    "else:\n",
    "    print(\"O número\", N, \"não é divisível por\", M)"
   ]
  },
  {
   "cell_type": "markdown",
   "metadata": {
    "id": "0d5Kdrz283yJ"
   },
   "source": [
    "### 04 - Números primos\n",
    "> Um número **N** é primo se e somente se é divisível por 1, -1, por **N** e por -**N**.  \n",
    "\n",
    "Escreva um script que verifica se ```N``` é um número primo, verificando se ```N``` é divisível por todos os números de ```1``` a ```N-1```. Você vai precisar usar alguma ferramenta de *loop* que você aprendeu para isto. No final, devolva uma mensagem no output indicando se o número é primo ou não."
   ]
  },
  {
   "cell_type": "code",
   "execution_count": 379,
   "metadata": {
    "id": "h_lFO-EO83yJ"
   },
   "outputs": [
    {
     "name": "stdout",
     "output_type": "stream",
     "text": [
      "Divisores: [1]\n",
      "O número 47 não é divisível por outros números além de 1 e por ele mesmo, logo é primo.\n"
     ]
    }
   ],
   "source": [
    "N = 47\n",
    "divisores = []                        # Criação de uma lista para o armazenamento dos divisores do número em análise\n",
    "#N = int(input(\"Digite um número: \"))\n",
    "\n",
    "for i in range (1, N-1, 1):           # Laço for para percorrer o intervalo de 1 a N-1 \n",
    "    if (N % i == 0):                  # Estrutura condicional para identificar os divisores de N\n",
    "        divisores.append(i)           # Utilização da função append para anexação dos divisores de N \n",
    "print(\"Divisores:\", divisores)\n",
    "\n",
    "if len(divisores) <= 1:               # Utilização da função len para contagem dos elementos da lista \n",
    "    print(\"O número %d não é divisível por outros números além de 1 e por ele mesmo, logo é primo.\" %N)\n",
    "else:\n",
    "     print(\"%d possui mais de 1 divisor além dele mesmo, logo não é primo\" %N)"
   ]
  },
  {
   "cell_type": "markdown",
   "metadata": {
    "id": "zHwDnURO83yK"
   },
   "source": [
    "### 05 - Desafio\n",
    "O algorítmo do exercício anterior não é o mais eficiente. O que você pode fazer para deixá-lo mais eficiente? Ou seja, executar menos comparações, portanto consumir menos tempo.\n",
    "1. Será que precisamos correr o loop até o final sempre?\n",
    "2. Será que precisamos mesmo verificar **todos** os números?\n",
    "3. Será que precisamos ir até N-1?\n",
    "\n",
    "Essas perguntas levam ao tipo de pensamento voltado a deixar um algoritmo mais eficiente. Veja se você consegue melhorar o seu."
   ]
  },
  {
   "cell_type": "code",
   "execution_count": 27,
   "metadata": {},
   "outputs": [
    {
     "name": "stdout",
     "output_type": "stream",
     "text": [
      "98 não é um número primo, pois possui 4 divisores.\n"
     ]
    }
   ],
   "source": [
    "# Outra forma de fazer seria criando um contador para cada divisor encontrado.\n",
    "# Nesse caso não testaríamos o número 1 e já iniciamos a verificação dos divisores pelo número 2\n",
    "\n",
    "N = 98\n",
    "n = 2\n",
    "cont = 0\n",
    "\n",
    "while n <= (N-1):\n",
    "    if (N % n == 0):\n",
    "        cont += 1\n",
    "    n += 1\n",
    "#print(cont)\n",
    "if(cont == 0):\n",
    "    print(\"%x é um número primo.\" %N)\n",
    "else:\n",
    "    print(N, \"não é um número primo, pois possui\", cont,\"divisores.\")\n"
   ]
  },
  {
   "cell_type": "markdown",
   "metadata": {
    "id": "4zhVSQan83yN"
   },
   "source": [
    "### 06 - Peso ideal 1\n",
    "O IMC (índice de massa corpórea) é um indicador de saúde mais bem aceito que o peso. Ele é calculado como:\n",
    "\n",
    "$$ IMC = \\dfrac{peso}{altura^2}$$\n",
    "\n",
    "Segundo a OMS, valores *normais* são entre 18.5 e 24.9.\n",
    "\n",
    "Sua tarefa é encontrar o ponto médio dessa faixa."
   ]
  },
  {
   "cell_type": "code",
   "execution_count": 1,
   "metadata": {
    "id": "3DzxicN983yO",
    "outputId": "6a947e58-88b2-4764-a9ca-717b971adb3d"
   },
   "outputs": [
    {
     "data": {
      "text/plain": [
       "21.7"
      ]
     },
     "execution_count": 1,
     "metadata": {},
     "output_type": "execute_result"
    }
   ],
   "source": [
    "# O conceito de média aritimética foi utilizado para encontrar o ponto médio do intervalo [18.5, 24.9]\n",
    "\n",
    "imc_ideal = (18.5 + 24.9)/2 \n",
    "imc_ideal"
   ]
  },
  {
   "cell_type": "markdown",
   "metadata": {
    "id": "Z8uBOym483yP"
   },
   "source": [
    "### 07 - Peso ideal 2\n",
    "Recebendo um valor de altura, encontre o peso '*ideal*' dessa pessoa, que fornece o IMC encontrado acima"
   ]
  },
  {
   "cell_type": "code",
   "execution_count": 310,
   "metadata": {
    "id": "rrNwycte83yP",
    "outputId": "0e63b2ff-3743-48c7-a472-b48a450a0867"
   },
   "outputs": [
    {
     "name": "stdout",
     "output_type": "stream",
     "text": [
      "62.71\n"
     ]
    }
   ],
   "source": [
    "altura = 1.70\n",
    "\n",
    "peso_ideal = imc_ideal*(altura**2)        # Calculo do peso ideal, conforme item 06\n",
    "peso_ideal\n",
    "print(round(peso_ideal, 2))               # Função round para arredondar os valores em duas casas decimais"
   ]
  },
  {
   "cell_type": "markdown",
   "metadata": {
    "id": "zEdM6J_i83yP"
   },
   "source": [
    "### 08 - Peso ideal 3\n",
    "Dada uma lista contendo as alturas de pacientes, crie uma nova lista que contenha o peso '*ideal*' (que fornece o IMC calculado em **Peso ideal 1**) desses pacientes."
   ]
  },
  {
   "cell_type": "code",
   "execution_count": 381,
   "metadata": {
    "id": "KN1mB_My83yQ",
    "outputId": "f070d54d-c156-4546-e3c7-b5bc500059d9"
   },
   "outputs": [
    {
     "data": {
      "text/plain": [
       "[82.51, 91.19, 62.71, 59.08]"
      ]
     },
     "execution_count": 381,
     "metadata": {},
     "output_type": "execute_result"
    }
   ],
   "source": [
    "lista_alturas = [1.95, 2.05, 1.70, 1.65]\n",
    "lista_peso_ideal = []\n",
    "\n",
    "for i in range (0, len(lista_alturas),1):\n",
    "    peso_ideal = imc_ideal*((lista_alturas[i])**2)\n",
    "    lista_peso_ideal.append(round(peso_ideal, 2))\n",
    "\n",
    "lista_peso_ideal"
   ]
  },
  {
   "cell_type": "markdown",
   "metadata": {
    "id": "8OKAtYQM83yQ"
   },
   "source": [
    "### 09 - Peso ideal 4\n",
    "Dada uma lista de tuplas - cada elemento da lista é uma tupla contendo altura e peso de um paciente - crie uma nova lista com o IMC desses pacientes."
   ]
  },
  {
   "cell_type": "code",
   "execution_count": 327,
   "metadata": {
    "id": "FaXgkjzI83yQ",
    "outputId": "8adc5e59-8a72-42db-db6b-6895587e875e"
   },
   "outputs": [
    {
     "data": {
      "text/plain": [
       "[27.78, 27.55, 19.19]"
      ]
     },
     "execution_count": 327,
     "metadata": {},
     "output_type": "execute_result"
    }
   ],
   "source": [
    "altura_peso = [(1.80, 90), (1.65, 75), (1.91, 70)]\n",
    "\n",
    "imc = []                                                           # Criação de lista para alocar os valores de imcs\n",
    "\n",
    "for i in range (0, len(altura_peso), 1):                           # Laço para percorrer a lista altura_peso\n",
    "    altura_peso_i = altura_peso[i]\n",
    "    #print(altura_peso_i)\n",
    "    imc_i = round((altura_peso_i[1]/(altura_peso_i[0]**2)), 2)     # Calculo dos imcs com uso da função round  \n",
    "    imc.append(imc_i)                                              # Inclusão dos valores ordenados na lista imc\n",
    "    #print(imc_i)\n",
    "    \n",
    "#print(\"IMC:\", imc)\n",
    "imc"
   ]
  },
  {
   "cell_type": "markdown",
   "metadata": {
    "id": "kZdSJqJq83yR"
   },
   "source": [
    "### 10 - Peso ideal 5\n",
    "Dada uma lista de **listas** - cada elemento da lista é uma **lista** contendo altura e peso de um paciente, adicione mais um elemento à lista de cada paciente contendo o IMC do paciente. Verifique também se é 'baixo', 'normal' ou 'alto' segundo os padrões da OMS em que normal é entre 18.5 e 24.9.\n",
    "\n",
    "Reflexão: por que no problema anterior temos que criar uma nova lista, e não podemos adicionar os dados de cada indivíduo à tupla?"
   ]
  },
  {
   "cell_type": "code",
   "execution_count": 378,
   "metadata": {
    "id": "EwszojP283yR"
   },
   "outputs": [
    {
     "name": "stdout",
     "output_type": "stream",
     "text": [
      "IMC alto:  [1.8, 90, 27.78]\n",
      "IMC alto:  [1.65, 75, 27.55]\n",
      "IMC normal:  [1.91, 70, 19.19]\n"
     ]
    },
    {
     "data": {
      "text/plain": [
       "[[1.8, 90, 27.78], [1.65, 75, 27.55], [1.91, 70, 19.19]]"
      ]
     },
     "execution_count": 378,
     "metadata": {},
     "output_type": "execute_result"
    }
   ],
   "source": [
    "altura_peso = [[1.80, 90], [1.65, 75], [1.91, 70]]\n",
    "paciente = []                                       # Lista para alocar as listas elementos da lista altura_peso\n",
    "\n",
    "for i in range (0, len(altura_peso), 1):            # Laço para percorrer a lista altura_peso\n",
    "    for j in range (0, len(altura_peso[i]), 2):     # Laço para percorrer as listas que são os elementos da lista altura_peso \n",
    "        paciente = altura_peso[i]                   \n",
    "        imc = paciente[j+1]/(paciente[j]**2)        # Calculo do imc de cada paciente\n",
    "        paciente.append(round(imc, 2))              # Inserção do imc nos elesmentos da lista altura_peso \n",
    "        if imc < 18.5:                              # Sequencia de conparadores para classificação dos imcs\n",
    "            print(\"IMC baixo: \", paciente)\n",
    "        elif 18.5 <= imc <= 24.9:\n",
    "            print(\"IMC normal: \", paciente)        \n",
    "        else:\n",
    "            print(\"IMC alto: \", paciente) \n",
    "altura_peso"
   ]
  },
  {
   "cell_type": "markdown",
   "metadata": {},
   "source": [
    "Resposta Reflexão: Tuplas são grupos de informações imutáveis, logo não seria possível acrescentar a informação IMC nas tuplas contidas na lista."
   ]
  }
 ],
 "metadata": {
  "colab": {
   "collapsed_sections": [],
   "provenance": []
  },
  "kernelspec": {
   "display_name": "Python 3 (ipykernel)",
   "language": "python",
   "name": "python3"
  },
  "language_info": {
   "codemirror_mode": {
    "name": "ipython",
    "version": 3
   },
   "file_extension": ".py",
   "mimetype": "text/x-python",
   "name": "python",
   "nbconvert_exporter": "python",
   "pygments_lexer": "ipython3",
   "version": "3.10.9"
  }
 },
 "nbformat": 4,
 "nbformat_minor": 1
}
